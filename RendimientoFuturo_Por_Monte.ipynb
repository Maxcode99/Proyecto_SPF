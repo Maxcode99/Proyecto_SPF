{
 "cells": [
  {
   "cell_type": "markdown",
   "metadata": {},
   "source": [
    "___\n",
    "<img style=\"float: left; margin: 30px 15px 15px 15px;\" src=\"https://d33wubrfki0l68.cloudfront.net/4ec62c1c925a380c912ddad740d18554c6822a11/fabe4/img/sponsors/iteso-university.png\" width=\"300\" height=\"500\" /> \n",
    "    \n",
    "    \n",
    "### <font color='navy'> Simulación de procesos financieros. \n",
    "\n",
    "**Nombres:** Ignacio Maximiliano Jiménez Ramírez <br>\n",
    "Alan José Maldonado García \n",
    "\n",
    "**Fecha:** XX de octubre del 202X.\n",
    "\n",
    "**Expediente** : 725502 <br>\n",
    "732884\n",
    "**Profesor:** Oscar David Jaramillo Zuluaga.\n",
    "    \n",
    "**Link Github**: https://github.com/Maxcode99/Proyecto_SPF.git\n",
    "\n",
    "# Proyecto TEMA-2"
   ]
  },
  {
   "cell_type": "markdown",
   "metadata": {},
   "source": [
    "<img style=\"float: right; margin: 0px 0px 15px 15px;\" src=\"https://upload.wikimedia.org/wikipedia/commons/b/b6/Proyecto_en_construccion.jpg\" width=\"300px\" height=\"100px\" />\n",
    "\n",
    "\n",
    "# Predicción de Valores Rendimientos Futuros de un Portafolio con Montecarlo.\n",
    "> Se especifican los componentes básicos que deberá tener cada proyecto. El proyecto debe ser un problema que utilice datos reales, ya sea de una empresa física real o de alguna página de internet que proporcione bases de datos confiables. Con la información obtenida, se pretende utilizar todas las herramientas vistas durante el curso para la correcta modelación y simulación del cierto problema con ciertas variables de interés.\n",
    "\n",
    "# Objetivos \n",
    "\n"
   ]
  },
  {
   "cell_type": "markdown",
   "metadata": {},
   "source": [
    "___\n",
    "\n",
    "\n",
    "\n",
    "### 1.2 Objetivos.\n",
    "> - Se refieren a los propósitos por los cuales se hace el trabajo.\n",
    "> - Deben ser **concretos, evaluables y verificables.**\n",
    "> - Deben ser escritos en infinitivo.\n",
    "> #### 1.1 Objetivo general.\n",
    ">  - Fin último de estudio. Se formula atendiendo el propósito global del trabajo. No presenta detalles.\n",
    ">  - Se orienta a la totalidad del trabajo. Tiene que ver con el título del trabajo.\n",
    "> #### 1.2 Objetivos específicos\n",
    ">  - De forma detallada describen cada una de los componentes del trabajo.\n",
    ">  - En conjunto garantizan la consecución del objetivo general.\n",
    "\n",
    "Referencia:\n",
    "- https://es.slideshare.net/rosbur/metodologia-objetivos-generales-y-especficos\n",
    "\n",
    "### 1.3 Definición del problema.\n",
    "> Se debe describir en una cuartilla máximo cuál es el escenario de negocio que se va a modelar, identificar cuáles son los supuestos que defines en el negocio y cuáles son los \"nodos\" o \"escenarios\" que identificas necesarios simular y porqué. Debes elaborar un diagrama de inicio a fin, identificando los \"nodos\" o \"escenarios\" a simular.\n",
    "\n",
    "Hoy en día es cada vez más común que las personas no especializadas en temas financieros quieran invertir su dinero en instrumentos financieros, siendo las acciones cotizadas en distintas bolsas de valores uno de los más populares. Invertir en acciones es cada día más fácil gracias a las nuevas tecnologías que permiten comprar y vender las mismas desde cualquier smartphone, y aplicaciones como: GBM+, CetesDirecto, etc. cuentan hoy en día con millones de descargas. En este proyecto se buscará estimar el rendimiento a un año de un portafolio compuesto de las 3 acciones de la bolsa mexicana de valores más populares (con mayor volumen) a través de una simulación Montecarlo para así predecir cual sería el rendimiento de una persona promedio que quisiera invertir a través de una de estas aplicaciones. <br>\n",
    "\n",
    "Para la simulación se utilizarán 5 años de datos históricos para estimar una función de distribución de probabilidad de los rendimientos futuros, además utilizaremos métodos de reducción de varianza para generar de manera más inteligente los posibles rendimientos futuros. <br>\n",
    "srsión adecuadas.\n",
    "\n",
    "- Una de las estrategias más acertadas a la hora de invertir en el mercado de capitales es invertir por medio de un indice, debido a que, al invertir de este modo, en la mayse suelen obtener rendimientos preponderamente positvos, no obstante, invertir en un indice de manera integral, es muy caro, por tantuna manera de acatar el problema es invertir en una porcion del indice que trate de replicar el comportamiento general del activo en conjunto. Para este proyecto se tomaron las  tres acciones que cuentan con los volumenes más altos de cirlculación dentro del indice. Puesto que, al tener una magnitud considerable, se espera que repliquen fiablemente, un comportamiento sobre el cual se pueda basarse. <br>o >oria de los> casos \n",
    "\n",
    "- Empresas\n",
    "- KIMBE>RA.MX\n",
    "- OMAB.MX\n",
    "- EMEXCPO.MX\n",
    "\n",
    "Consideramos invertir en la Bolsa Mexicana de Valores debido a la baja volatildiad que se maneja. Por lo que el portafolio, estara destinado para inversionistas con un coeficiente de abversión menor. \n",
    "\n",
    "Los escenarios que se platearan en el modelo, partiran de estimaciones referetes al estado de la economia. Debido a que la bolsa de valores, en cierto punto, es un indicador del comportamiento general del mercado, es menester tener en cuenta diferentes escenarios donde los precios se puedan ver afectar. Tales escenarios son: Periodos de crecimiento economico, periodo de normalidad, periodos de decreciemiento economico y por ultimo escenarios de recesión.\n",
    "\n",
    "\n",
    "\n",
    "### 1.4 Nodos y variables que se decidieron simular y porqué\n",
    "> En este apartado el objetivo es identificar los problemas que se van a abordar, para examinar la factibilidad y viabilidad de la simulación de los nodos escogidos. Posteriormente se debe de argumentar del porqué de los nodos escogidos.\n",
    "\n",
    "### 1.5 Definición de hipótesis y supuestos.\n",
    ">  Para poder modelar un proceso de negocio o cualquiera otro proceso en el área de las ingenierías o ciencias sociales, después de identificar el objeto de estudio, es importante indicar cuales son los supuestos que se dan por verdaderos a lo largo de la ejecución del proceso. Estos supuestos se deben indicar en forma de variables e hipótesis (son diferentes), porque si puedes definir en un valor el supuesto lo llamaremos \"supuesto constante\" y si no es posible identificarlo con un número entonces será una hipótesis que afectará la construcción de los escenarios posibles del proceso.\n",
    "\n",
    "### 1.6 Obtención de bases de datos\n",
    "> El tercer paso del proyecto es indicar de dónde se obtendrán las bases de datos, que indican como se han comportado las variables que identificaste en tu proceso de negocio que vas a simular. En esta investigación debes haber encontrado información propia de la empresa, organización o institución que vas a simular y otra parte de la información debe provenir de investigación que realices en fuentes de información públicas o privadas como las que tiene SECOBI, ahí normalmente y dependiendo del problema elegido, se investigan variables económicas, como tasas de interés, inflación, tipo de cambio, etc., de varios años, por poner un ejemplo.\n",
    "\n",
    "### 1.7 Visualización de resultados de simulación.\n",
    "> Se deben simular al menos 4  \"nodos\" o \"escenarios\" en tu problema. Para la segunda entrega debes haber elaborado un programa que simule dos de ellos, los primeros dos de tu diagrama.\n",
    "> Para la entrega final deben de tener los 4 nodos con todas sus simulaciones.\n",
    "\n",
    "### 1.6 Conclusiones.\n",
    "> Mucho cuidado, las conclusiones no son cualquier cosa. Se debe concluir respecto a los objetivos planteados de acuerdo a los resultados obtenidos.\n",
    "\n",
    "### 1.7 Referencias.\n",
    "> Citar (en formato APA) la bibliografía utilizada."
   ]
  },
  {
   "cell_type": "markdown",
   "metadata": {},
   "source": [
    "# Diagrama de Flujo"
   ]
  },
  {
   "cell_type": "markdown",
   "metadata": {},
   "source": [
    "![Mi image](Diagrama de flujo.png)\n"
   ]
  },
  {
   "cell_type": "markdown",
   "metadata": {},
   "source": [
    "___\n",
    "## 2. Especificaciones adicionales.\n",
    "En el grupo deben haber mínimo dos integrantes y máximo tres integrantes. Para propósitos logísticos nada más, por favor enumérense como *integrante 1*, *integrante 2* e *integrante 3*.\n",
    "\n",
    "### 2.1 Notebook de jupyter. \n",
    "> Los anteriores numerales los deben desarrollar todos en un notebook de jupyter y llamarlo de la siguiente manera `ProyectoModulo1_ApellidoN1_ApellidoN2_ApellidoN3`, donde `ApellidoNi` hace referencia al apellido materno y la inicial del primer nombre del integrante `i`.\n",
    "\n",
    "### 2.2 Proyecto en `GitHub`.\n",
    "> El integrante 1 deberá crear un proyecto en `GitHub` llamado **proyecto_modulo1**, donde tendrán todos los archivos relacionados con el proyecto. Los demás integrantes deben hacer un *fork* del proyecto, seguir el proyecto principal con `GitKraken` y hacer al menos dos contribuciones con *pull request* (como se hizo en la tarea). En el proyecto, deben incluir el repositorio remoto del integrante 1.\n",
    "\n",
    "### 2.3 Presentación.\n",
    "> Recuerden que la nota del proyecto es mitad el trabajo, y mitad la presentación. Deben hacer una presentación utlizando un notebook de python para presentar el trabajo durante un horario de clase que se será posteriomente definido. La presentación, además de llevar todos los componentes básicos descritos en el entregable, debe llevar una tabla de contenido.\n",
    "> - Presentación: 10 minutos.\n",
    "> - Seguir estas recomendaciones: https://es.slideshare.net/MeireComputacion/power-point-pautas-para-una-buen-trabajo"
   ]
  },
  {
   "cell_type": "markdown",
   "metadata": {},
   "source": [
    "<script>\n",
    "  $(document).ready(function(){\n",
    "    $('div.prompt').hide();\n",
    "    $('div.back-to-top').hide();\n",
    "    $('nav#menubar').hide();\n",
    "    $('.breadcrumb').hide();\n",
    "    $('.hidden-print').hide();\n",
    "  });\n",
    "</script>\n",
    "\n",
    "<footer id=\"attribution\" style=\"float:right; color:#808080; background:#fff;\">\n",
    "Created with Jupyter by Esteban Jiménez Rodríguez.\n",
    "</footer>"
   ]
  }
 ],
 "metadata": {
  "kernelspec": {
   "display_name": "Python 3 (ipykernel)",
   "language": "python",
   "name": "python3"
  },
  "language_info": {
   "codemirror_mode": {
    "name": "ipython",
    "version": 3
   },
   "file_extension": ".py",
   "mimetype": "text/x-python",
   "name": "python",
   "nbconvert_exporter": "python",
   "pygments_lexer": "ipython3",
   "version": "3.11.4"
  }
 },
 "nbformat": 4,
 "nbformat_minor": 4
}
